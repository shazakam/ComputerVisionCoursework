{
 "cells": [
  {
   "cell_type": "code",
   "execution_count": 110,
   "metadata": {},
   "outputs": [
    {
     "name": "stdout",
     "output_type": "stream",
     "text": [
      "8\n",
      "Enough matches found for: ./Training/png/029-theater.png\n",
      "\n"
     ]
    }
   ],
   "source": [
    "import numpy as np\n",
    "import matplotlib.pyplot as plt\n",
    "import cv2\n",
    "import imutils\n",
    "import os\n",
    "\n",
    "def match_SIFT(file):\n",
    "    img2 = cv2.imread(\"./TestWithoutRotations/images/test_image_1.png\")\n",
    "    file_name = file\n",
    "    img1 = cv2.imread(file_name)\n",
    "    img1 = cv2.pyrDown(img1)\n",
    "\n",
    "    sift = cv2.SIFT_create(nOctaveLayers=5, nfeatures=1000, contrastThreshold=0.1)\n",
    "    matcher = cv2.FlannBasedMatcher(dict(algorithm = 1, trees = 5), {})\n",
    "\n",
    "    kp1, des1, = sift.detectAndCompute(img1, None)\n",
    "    kp2, des2 = sift.detectAndCompute(img2, None)\n",
    "\n",
    "\n",
    "    # bf = cv2.BFMatcher_create() #cv2.NORM_L2SQR, crossCheck=True\n",
    "    matches = matcher.knnMatch(des1, des2, 2)\n",
    "    matches = sorted(matches, key = lambda x : x[0].distance)\n",
    "\n",
    "    good = [m1 for (m1,m2) in matches if m1.distance < 0.6*m2.distance]\n",
    "\n",
    "    \n",
    "\n",
    "    canvas = img2.copy()\n",
    "\n",
    "    if len(good) >= 1:\n",
    "        print(len(good))\n",
    "        print(\"Enough matches found for: {}\\n\".format(file))\n",
    "        src_pts = np.float32([ kp1[m.queryIdx].pt for m in good]).reshape(-1,1,2)\n",
    "        dst_pts = np.float32([ kp2[m.trainIdx].pt for m in good]).reshape(-1,1,2)\n",
    "        M, mask = cv2.findHomography(src_pts, dst_pts, cv2.RANSAC, 5.0)\n",
    "\n",
    "        matchesMask = mask.ravel().tolist()\n",
    "        h,w = img2.shape[:2]\n",
    "        pts = np.float32([ [0, 0], [0, h-1], [w-1, h-1], [w-1, 0]]).reshape(-1, 1, 2)\n",
    "\n",
    "        dst = cv2.perspectiveTransform(pts, M)\n",
    "\n",
    "        draw_params = dict(matchColor = (0,255, 0),\n",
    "                        singlePointColor = None,\n",
    "                        matchesMask = matchesMask,\n",
    "                        flags =2)\n",
    "        cv2.polylines(canvas, [np.int32(dst)], True, (0,0,255),3, cv2.LINE_AA)\n",
    "        matched = cv2.drawMatches(img1,kp1,canvas,kp2,good,None, **draw_params)\n",
    "        # img3 = cv2.drawMatchsKnn(img1,kp1,img2,kp2,good,None,flags=cv2.DrawMatchesFlags_NOT_DRAW_SINGLE_POINTS)\n",
    "        # img3 = cv2.drawMatchees(img1, kp1, img2, kp2, good, None, **draw_params)\n",
    "    else:\n",
    "        \n",
    "        print(\"Not enough matches are found for: {} - {}/{}\".format(file ,len(good), 4))\n",
    "        # draw_params = dict(matchColor = (0,255, 0),\n",
    "        #                 singlePointColor = None,\n",
    "        #                 matchesMask = matchesMask,\n",
    "        #                 flags =2)\n",
    "        # img3 = cv2.drawMatchesKnn(img1,kp1,img2,kp2,good,None,flags=cv2.DrawMatchesFlags_NOT_DRAW_SINGLE_POINTS)\n",
    "        # img3 = cv2.drawMatches(img1, kp1, img2, kp2, good, None, **draw_params)\n",
    "    cv2.imshow(\"result\", matched)\n",
    "    cv2.waitKey()\n",
    "\n",
    "files = os.listdir(\"./Training/png/\")\n",
    "match_SIFT(\"./Training/png/029-theater.png\")\n",
    "# for file in files:\n",
    "#     file_name = \"./Training/png/\" + file\n",
    "#     match_SIFT(file_name)\n",
    "    # break\n"
   ]
  },
  {
   "cell_type": "code",
   "execution_count": null,
   "metadata": {},
   "outputs": [],
   "source": []
  }
 ],
 "metadata": {
  "kernelspec": {
   "display_name": "base",
   "language": "python",
   "name": "python3"
  },
  "language_info": {
   "codemirror_mode": {
    "name": "ipython",
    "version": 3
   },
   "file_extension": ".py",
   "mimetype": "text/x-python",
   "name": "python",
   "nbconvert_exporter": "python",
   "pygments_lexer": "ipython3",
   "version": "3.9.12"
  },
  "orig_nbformat": 4
 },
 "nbformat": 4,
 "nbformat_minor": 2
}
