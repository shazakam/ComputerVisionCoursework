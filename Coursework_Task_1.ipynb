{
 "cells": [
  {
   "cell_type": "code",
   "execution_count": 1,
   "id": "a40981d8",
   "metadata": {},
   "outputs": [],
   "source": [
    "import matplotlib, cv2\n",
    "import numpy as np\n",
    "import matplotlib.pyplot as plt\n",
    "import math\n",
    "import os\n",
    "%matplotlib inline"
   ]
  },
  {
   "cell_type": "markdown",
   "id": "2ac3e7e9",
   "metadata": {},
   "source": [
    "## Functions to Optimise Edge Detection and Calculate Angles"
   ]
  },
  {
   "cell_type": "code",
   "execution_count": 2,
   "id": "a37c08e4",
   "metadata": {},
   "outputs": [],
   "source": [
    "def optimise_hough(edges):\n",
    "    optimised = False\n",
    "    threshold = 50\n",
    "    lines = cv2.HoughLines(edges,1, np.pi/180, threshold)\n",
    "    while not optimised:\n",
    "        if lines.size > 4:\n",
    "            threshold += 1\n",
    "            lines = cv2.HoughLines(edges,1, np.pi/180, threshold)\n",
    "        else:\n",
    "            lines = cv2.HoughLines(edges,1, np.pi/180, threshold-1)\n",
    "            optimised = True\n",
    "    return lines, threshold"
   ]
  },
  {
   "cell_type": "code",
   "execution_count": 3,
   "id": "af9ba616",
   "metadata": {},
   "outputs": [],
   "source": [
    "def find_thetas(lines, img):\n",
    "    v_1 = []\n",
    "    v_2 = []\n",
    "    gradients = []\n",
    "    thetas = []\n",
    "    for line in lines:\n",
    "        rho,theta = line[0]\n",
    "\n",
    "        a = np.cos(theta)\n",
    "        b = np.sin(theta)\n",
    "\n",
    "        x0 = a * rho\n",
    "        y0 = b * rho\n",
    "        # x1 stores the rounded off value of (r * cos(theta) - 1000 * sin(theta))\n",
    "        x1 = int(x0 + 1000 * (-b))\n",
    "        # y1 stores the rounded off value of (r * sin(theta)+ 1000 * cos(theta))\n",
    "        y1 = int(y0 + 1000 * (a))\n",
    "        # x2 stores the rounded off value of (r * cos(theta)+ 1000 * sin(theta))\n",
    "        x2 = int(x0 - 1000 * (-b))\n",
    "        # y2 stores the rounded off value of (r * sin(theta)- 1000 * cos(theta))\n",
    "        y2 = int(y0 - 1000 * (a))\n",
    "\n",
    "        if rho < 0:\n",
    "            theta -= np.pi\n",
    "        thetas.append(theta)\n",
    "\n",
    "        cv2.line(img, (x1, y1), (x2, y2), (255, 0, 0), 1)\n",
    "\n",
    "        v_1.append(np.array([x1,y1]))\n",
    "        v_2.append(np.array([x2,y2]))\n",
    "\n",
    "        #gradient = (y2-y1)/(x2-x1)\n",
    "        #gradients.append(gradient)\n",
    "    return thetas"
   ]
  },
  {
   "cell_type": "code",
   "execution_count": 4,
   "id": "97b4e783",
   "metadata": {},
   "outputs": [],
   "source": [
    "def final_angles(thetas):\n",
    "    results = []\n",
    "    thetas = list(set(thetas))\n",
    "    for x in range(len(thetas)):\n",
    "        for y in range(len(thetas)):\n",
    "            results.append(abs(math.degrees(thetas[x]-thetas[y])))\n",
    "    return results\n"
   ]
  },
  {
   "cell_type": "markdown",
   "id": "6d3bd3d0",
   "metadata": {},
   "source": [
    "## Final Function to calculate angles of a list of images "
   ]
  },
  {
   "cell_type": "code",
   "execution_count": 5,
   "id": "b4ae2a4c",
   "metadata": {},
   "outputs": [],
   "source": [
    "#Input: Image list and File name list\n",
    "#Output: Dictionary containing image names and calculated angle\n",
    "def get_image_angles(images, file_names):\n",
    "    final_res = []\n",
    "    for image in images:\n",
    "        print(np.mean(image))\n",
    "        edges = cv2.Canny(image, threshold1=70, threshold2=110)\n",
    "        lines, threshold = optimise_hough(edges)\n",
    "        thetas = find_thetas(lines, image)\n",
    "        results = list(set(final_angles(thetas)))\n",
    "\n",
    "        final_res.append(results[1])\n",
    "   \n",
    "    return(dict(zip(file_names, final_res)))\n",
    "    "
   ]
  },
  {
   "cell_type": "markdown",
   "id": "f038e6bf",
   "metadata": {},
   "source": [
    "## Calculate Angles of .png images in a given directory"
   ]
  },
  {
   "cell_type": "code",
   "execution_count": 6,
   "id": "10d3837f",
   "metadata": {},
   "outputs": [
    {
     "ename": "NameError",
     "evalue": "name 'path_of_the_directory' is not defined",
     "output_type": "error",
     "traceback": [
      "\u001b[1;31m---------------------------------------------------------------------------\u001b[0m",
      "\u001b[1;31mNameError\u001b[0m                                 Traceback (most recent call last)",
      "\u001b[1;32mc:\\Users\\ds230\\Desktop\\Computer Vision Labs\\Git Repo\\ComputerVisionCoursework-1\\Coursework_Task_1.ipynb Cell 9\u001b[0m in \u001b[0;36m<cell line: 5>\u001b[1;34m()\u001b[0m\n\u001b[0;32m      <a href='vscode-notebook-cell:/c%3A/Users/ds230/Desktop/Computer%20Vision%20Labs/Git%20Repo/ComputerVisionCoursework-1/Coursework_Task_1.ipynb#X11sZmlsZQ%3D%3D?line=2'>3</a>\u001b[0m images \u001b[39m=\u001b[39m []\n\u001b[0;32m      <a href='vscode-notebook-cell:/c%3A/Users/ds230/Desktop/Computer%20Vision%20Labs/Git%20Repo/ComputerVisionCoursework-1/Coursework_Task_1.ipynb#X11sZmlsZQ%3D%3D?line=3'>4</a>\u001b[0m file_names \u001b[39m=\u001b[39m []\n\u001b[1;32m----> <a href='vscode-notebook-cell:/c%3A/Users/ds230/Desktop/Computer%20Vision%20Labs/Git%20Repo/ComputerVisionCoursework-1/Coursework_Task_1.ipynb#X11sZmlsZQ%3D%3D?line=4'>5</a>\u001b[0m \u001b[39mfor\u001b[39;00m file \u001b[39min\u001b[39;00m os\u001b[39m.\u001b[39mlistdir(path_of_the_directory):\n\u001b[0;32m      <a href='vscode-notebook-cell:/c%3A/Users/ds230/Desktop/Computer%20Vision%20Labs/Git%20Repo/ComputerVisionCoursework-1/Coursework_Task_1.ipynb#X11sZmlsZQ%3D%3D?line=5'>6</a>\u001b[0m     \u001b[39mif\u001b[39;00m file\u001b[39m.\u001b[39mendswith(ext):\n\u001b[0;32m      <a href='vscode-notebook-cell:/c%3A/Users/ds230/Desktop/Computer%20Vision%20Labs/Git%20Repo/ComputerVisionCoursework-1/Coursework_Task_1.ipynb#X11sZmlsZQ%3D%3D?line=6'>7</a>\u001b[0m         images\u001b[39m.\u001b[39mappend(cv2\u001b[39m.\u001b[39mimread(path_of_directory\u001b[39m+\u001b[39mfile, \u001b[39m0\u001b[39m))\n",
      "\u001b[1;31mNameError\u001b[0m: name 'path_of_the_directory' is not defined"
     ]
    }
   ],
   "source": [
    "path_of_directory = 'angle/'\n",
    "ext = ('.png')\n",
    "images = []\n",
    "file_names = []\n",
    "for file in os.listdir(path_of_directory):\n",
    "    if file.endswith(ext):\n",
    "        images.append(cv2.imread(path_of_directory+file, 0))\n",
    "        file_names.append(file)\n",
    "        #print(file)\n",
    "    else:\n",
    "        continue\n",
    "        \n",
    "get_image_angles(images, file_names)"
   ]
  },
  {
   "cell_type": "code",
   "execution_count": null,
   "id": "52b96ee8",
   "metadata": {},
   "outputs": [],
   "source": []
  }
 ],
 "metadata": {
  "kernelspec": {
   "display_name": "Python 3 (ipykernel)",
   "language": "python",
   "name": "python3"
  },
  "language_info": {
   "codemirror_mode": {
    "name": "ipython",
    "version": 3
   },
   "file_extension": ".py",
   "mimetype": "text/x-python",
   "name": "python",
   "nbconvert_exporter": "python",
   "pygments_lexer": "ipython3",
   "version": "3.9.12"
  }
 },
 "nbformat": 4,
 "nbformat_minor": 5
}
