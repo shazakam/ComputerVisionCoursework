{
 "cells": [
  {
   "cell_type": "code",
   "execution_count": 46,
   "id": "a40981d8",
   "metadata": {},
   "outputs": [],
   "source": [
    "import matplotlib, cv2\n",
    "import numpy as np\n",
    "import matplotlib.pyplot as plt\n",
    "import math\n",
    "import os\n",
    "%matplotlib inline"
   ]
  },
  {
   "cell_type": "markdown",
   "id": "2ac3e7e9",
   "metadata": {},
   "source": [
    "## Functions to Optimise Edge Detection and Calculate Angles"
   ]
  },
  {
   "cell_type": "code",
   "execution_count": 47,
   "id": "a37c08e4",
   "metadata": {},
   "outputs": [],
   "source": [
    "def optimise_hough(edges):\n",
    "    optimised = False\n",
    "    threshold = 50\n",
    "    lines = cv2.HoughLines(edges,1, np.pi/180, threshold)\n",
    "    while not optimised:\n",
    "        if lines.size > 4:\n",
    "            threshold += 1\n",
    "            lines = cv2.HoughLines(edges,1, np.pi/180, threshold)\n",
    "        else:\n",
    "            lines = cv2.HoughLines(edges,1, np.pi/180, threshold-1)\n",
    "            optimised = True\n",
    "    return lines, threshold"
   ]
  },
  {
   "cell_type": "code",
   "execution_count": 48,
   "id": "af9ba616",
   "metadata": {},
   "outputs": [],
   "source": [
    "def find_thetas(lines, img):\n",
    "    v_1 = []\n",
    "    v_2 = []\n",
    "    gradients = []\n",
    "    thetas = []\n",
    "    for line in lines:\n",
    "        rho,theta = line[0]\n",
    "\n",
    "        a = np.cos(theta)\n",
    "        b = np.sin(theta)\n",
    "\n",
    "        x0 = a * rho\n",
    "        y0 = b * rho\n",
    "        # x1 stores the rounded off value of (r * cos(theta) - 1000 * sin(theta))\n",
    "        x1 = int(x0 + 1000 * (-b))\n",
    "        # y1 stores the rounded off value of (r * sin(theta)+ 1000 * cos(theta))\n",
    "        y1 = int(y0 + 1000 * (a))\n",
    "        # x2 stores the rounded off value of (r * cos(theta)+ 1000 * sin(theta))\n",
    "        x2 = int(x0 - 1000 * (-b))\n",
    "        # y2 stores the rounded off value of (r * sin(theta)- 1000 * cos(theta))\n",
    "        y2 = int(y0 - 1000 * (a))\n",
    "\n",
    "        if rho < 0:\n",
    "            theta -= np.pi\n",
    "        thetas.append(theta)\n",
    "\n",
    "        cv2.line(img, (x1, y1), (x2, y2), (255, 0, 0), 1)\n",
    "\n",
    "        v_1.append(np.array([x1,y1]))\n",
    "        v_2.append(np.array([x2,y2]))\n",
    "\n",
    "        #gradient = (y2-y1)/(x2-x1)\n",
    "        #gradients.append(gradient)\n",
    "    return thetas"
   ]
  },
  {
   "cell_type": "code",
   "execution_count": 49,
   "id": "97b4e783",
   "metadata": {},
   "outputs": [],
   "source": [
    "def final_angles(thetas):\n",
    "    results = []\n",
    "    thetas = list(set(thetas))\n",
    "    for x in range(len(thetas)):\n",
    "        for y in range(len(thetas)):\n",
    "            results.append(abs(math.degrees(thetas[x]-thetas[y])))\n",
    "    return results\n"
   ]
  },
  {
   "cell_type": "markdown",
   "id": "6d3bd3d0",
   "metadata": {},
   "source": [
    "## Final Function to calculate angles of a list of images "
   ]
  },
  {
   "cell_type": "code",
   "execution_count": 50,
   "id": "b4ae2a4c",
   "metadata": {},
   "outputs": [],
   "source": [
    "#Input: Image list and File name list\n",
    "#Output: Dictionary containing image names and calculated angle\n",
    "def get_image_angles(images, file_names):\n",
    "    final_res = []\n",
    "    for image in images:\n",
    "        edges = cv2.Canny(image, threshold1=70, threshold2=110)\n",
    "        lines, threshold = optimise_hough(edges)\n",
    "        thetas = find_thetas(lines, image)\n",
    "        results = list(set(final_angles(thetas)))\n",
    "\n",
    "        final_res.append(results[1])\n",
    "   \n",
    "    return(dict(zip(file_names, final_res)))\n",
    "    "
   ]
  },
  {
   "cell_type": "markdown",
   "id": "f038e6bf",
   "metadata": {},
   "source": [
    "## Calculate Angles of .png images in a given directory"
   ]
  },
  {
   "cell_type": "code",
   "execution_count": 53,
   "id": "10d3837f",
   "metadata": {},
   "outputs": [
    {
     "data": {
      "text/plain": [
       "{'image8.png': 108.99999916260987,\n",
       " 'image9.png': 18.000000500895634,\n",
       " 'image10.png': 90.00000250447816,\n",
       " 'image7.png': 94.99999991138924,\n",
       " 'image6.png': 72.00000200358254,\n",
       " 'image4.png': 120.00000516053706,\n",
       " 'image5.png': 53.00000215772734,\n",
       " 'image1.png': 39.99999883637168,\n",
       " 'image2.png': 20.000001125733135,\n",
       " 'image3.png': 60.000001669652114}"
      ]
     },
     "execution_count": 53,
     "metadata": {},
     "output_type": "execute_result"
    }
   ],
   "source": [
    "path_of_directory = 'angle/'\n",
    "ext = ('.png')\n",
    "images = []\n",
    "file_names = []\n",
    "for file in os.listdir(path_of_the_directory):\n",
    "    if file.endswith(ext):\n",
    "        images.append(cv2.imread(path_of_directory+file))\n",
    "        file_names.append(file)\n",
    "        #print(file)\n",
    "    else:\n",
    "        continue\n",
    "        \n",
    "get_image_angles(images, file_names)"
   ]
  },
  {
   "cell_type": "code",
   "execution_count": null,
   "id": "52b96ee8",
   "metadata": {},
   "outputs": [],
   "source": []
  }
 ],
 "metadata": {
  "kernelspec": {
   "display_name": "Python 3 (ipykernel)",
   "language": "python",
   "name": "python3"
  },
  "language_info": {
   "codemirror_mode": {
    "name": "ipython",
    "version": 3
   },
   "file_extension": ".py",
   "mimetype": "text/x-python",
   "name": "python",
   "nbconvert_exporter": "python",
   "pygments_lexer": "ipython3",
   "version": "3.9.12"
  }
 },
 "nbformat": 4,
 "nbformat_minor": 5
}
